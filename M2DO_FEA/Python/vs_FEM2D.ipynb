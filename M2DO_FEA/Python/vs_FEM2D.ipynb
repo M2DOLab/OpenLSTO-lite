{
 "cells": [
  {
   "cell_type": "code",
   "execution_count": 1,
   "metadata": {},
   "outputs": [],
   "source": [
    "from pyBind import py_FEA, py_Sensitivity\n",
    "import matplotlib.pyplot as plt\n",
    "import numpy as np\n",
    "import scipy.sparse.linalg\n",
    "\n",
    "import sys\n",
    "sys.path.insert(0, r'/home/hac210/Dropbox/packages/topOpt_MDO/lib/fem2d/fem2d/')\n",
    "from utils.plot import get_mesh, plot_solution, plot_contour\n",
    "from fem2d import PyFEMSolver\n",
    "\n",
    "sys.path.insert(0, r'/home/hac210/Dropbox/packages/02.M2DO_opensource_new/OpenLSTO/M2DO_FEA/Python/Cant')\n",
    "from optim_refact_v3 import Cantilever"
   ]
  },
  {
   "cell_type": "code",
   "execution_count": 2,
   "metadata": {
    "collapsed": true
   },
   "outputs": [],
   "source": [
    "# FEM setup\n",
    "num_nodes_x = 161 #11 # 21\n",
    "num_nodes_y = 81 #21 #11\n",
    "\n",
    "length_x = 160.0\n",
    "length_y = 80.0\n",
    "\n",
    "num_elems_x = num_nodes_x - 1\n",
    "num_elems_y = num_nodes_y - 1\n",
    "\n",
    "num_elem = num_elems_x * num_elems_y\n",
    "num_node = num_nodes_y * num_nodes_x\n",
    "\n",
    "E = 1.0\n",
    "v = 0.3"
   ]
  },
  {
   "cell_type": "code",
   "execution_count": 3,
   "metadata": {},
   "outputs": [
    {
     "name": "stderr",
     "output_type": "stream",
     "text": [
      "/home/hac210/anaconda2/lib/python2.7/site-packages/scipy/sparse/compressed.py:774: SparseEfficiencyWarning: Changing the sparsity structure of a csr_matrix is expensive. lil_matrix is more efficient.\n",
      "  SparseEfficiencyWarning)\n"
     ]
    }
   ],
   "source": [
    "# get Cantil + compte elasticity =====================================\n",
    "cant = Cantilever(isHoles=False, lxy=[length_x,length_y], exy=[num_elems_x,num_elems_y])\n",
    "cant.set_fea()\n",
    "u_cant = cant.get_u(np.ones(num_elem), f=-1.0)"
   ]
  },
  {
   "cell_type": "code",
   "execution_count": 4,
   "metadata": {},
   "outputs": [
    {
     "name": "stdout",
     "output_type": "stream",
     "text": [
      "((3277124,), (3277124,), (3277124,), 26244)\n"
     ]
    }
   ],
   "source": [
    "# get fem2d + compute elasticity =====================================\n",
    "fem_solver = PyFEMSolver(num_nodes_x,num_nodes_y,length_x,length_y,E,v)\n",
    "force = np.zeros(2*num_node)\n",
    "force[(num_nodes_y*(num_nodes_x-1) + int(num_nodes_y/2))*2+1] = -1.0\n",
    "nodes = get_mesh(num_nodes_x, num_nodes_y, length_x, length_y) \n",
    "\n",
    "# stiffness matrix\n",
    "size = num_elem * 64 * 4 + 2 * 2 * num_nodes_y\n",
    "state_size = 2 * num_node + 2 * num_nodes_y\n",
    "rhs = np.zeros(state_size)\n",
    "rhs[:2*num_node] = force\n",
    "\n",
    "data1 = np.zeros(size)\n",
    "rows1 = np.zeros(size, np.int32)\n",
    "cols1 = np.zeros(size, np.int32)\n",
    "fem_solver.get_stiffness_matrix(np.ones(num_node), data1, rows1, cols1)\n",
    "mtx = scipy.sparse.csc_matrix((data1, (rows1, cols1)), shape=(state_size, state_size))\n",
    "\n",
    "print(data1.shape, rows1.shape, cols1.shape, state_size)\n",
    "\n",
    "sol = scipy.sparse.linalg.spsolve(mtx, rhs)"
   ]
  },
  {
   "cell_type": "code",
   "execution_count": 5,
   "metadata": {
    "collapsed": true
   },
   "outputs": [],
   "source": [
    "# get py_FEA + compute elasticity =====================================\n",
    "pyFEA = py_FEA(lx = length_x, ly = length_y, nelx = num_elems_x, nely = num_elems_y, element_order = 2)\n",
    "[node, elem, elem_dof] = pyFEA.get_mesh()\n",
    "pyFEA.set_material(E,v,1.0)\n",
    "\n",
    "coord = np.array([0,0])\n",
    "tol = np.array([1e-3,1e10])\n",
    "pyFEA.set_boundary(coord = coord,tol = tol)\n",
    "BCid = pyFEA.get_boundary()\n",
    "\n",
    "coord = np.array([length_x,length_y/2])\n",
    "tol = np.array([1,1]) \n",
    "GF_ = pyFEA.set_force(coord = coord,tol = tol, direction = 1, f = -1.0) \n",
    "\n",
    "# quickfix (for comparison)\n",
    "(rows, cols, vals) = pyFEA.compute_K()\n",
    "u = pyFEA.solve_FE()\n",
    "\n",
    "# using Lagrange multiplier\n",
    "nprows = np.array(rows)\n",
    "npcols = np.array(cols)\n",
    "npvals = np.array(vals)\n",
    "\n",
    "nDOF  = num_node * 2\n",
    "nDOF_withLag  = num_node * 2 + len(BCid)\n",
    "\n",
    "mtx = scipy.sparse.csc_matrix((npvals, (nprows, npcols)), shape = (nDOF_withLag, nDOF_withLag))\n",
    "\n",
    "GF = np.zeros(nDOF_withLag)\n",
    "GF[:nDOF] = GF_ #rhs.transpose().flatten(order = 'F')\n",
    "\n",
    "sol_lsto = scipy.sparse.linalg.spsolve(mtx, GF) # direct solver is used\n",
    "\n",
    "# print npcols.shape\n",
    "# print nDOF\n",
    "\n",
    "# mtx = scipy.sparse.csc_matrix((npvals, (nprows, npcols)), shape = (nDOF, nDOF))\n",
    "\n",
    "# # force \n",
    "# rhs = np.zeros((num_node,2))\n",
    "\n",
    "# fixedNodes = (abs(node[:,0]-coord[0]) < tol[0]) & (abs(node[:,1]-coord[1]) < tol[1])\n",
    "# nid = np.where(fixedNodes == True)[0]\n",
    "\n",
    "\n",
    "\n",
    "# rhs[nid,1] = -1\n",
    "# GF = rhs.transpose().flatten(order = 'F')\n",
    "# state = scipy.sparse.linalg.spsolve(mtx, la) # direct solver is used"
   ]
  },
  {
   "cell_type": "code",
   "execution_count": 6,
   "metadata": {},
   "outputs": [
    {
     "name": "stdout",
     "output_type": "stream",
     "text": [
      "cant = -40.2009112056\n",
      "pyFEA = -40.2009052138\n",
      "pyFEA_lag = -40.2009112045\n",
      "fem2d = -40.2009112061\n"
     ]
    }
   ],
   "source": [
    "print \"cant = \" + str(min(u_cant[0]))\n",
    "print \"pyFEA = \" + str(min(u))\n",
    "print \"pyFEA_lag = \" + str(min(sol_lsto))\n",
    "print \"fem2d = \" + str(min(sol))\n",
    "# OK."
   ]
  },
  {
   "cell_type": "code",
   "execution_count": 7,
   "metadata": {},
   "outputs": [],
   "source": [
    "# changing of the the areafraction\n",
    "areafraction =  np.random.rand(num_elem)\n",
    "\n",
    "## CANTILEVER VER. (correct for SIMP)\n",
    "u_cant = cant.get_u(areafraction,-1)\n",
    "\n",
    "## OPENLSTO VER\n",
    "(rows, cols, vals) = pyFEA.compute_K_SIMP(areafraction)\n",
    "\n",
    "### quickfix (for comparison)\n",
    "u = pyFEA.solve_FE()\n",
    "\n",
    "### using Lagrange multiplier\n",
    "nprows = np.array(rows)\n",
    "npcols = np.array(cols)\n",
    "npvals = np.array(vals)\n",
    "\n",
    "nDOF  = num_node * 2\n",
    "nDOF_withLag  = num_node * 2 + len(BCid)\n",
    "\n",
    "mtx = scipy.sparse.csc_matrix((npvals, (nprows, npcols)), shape = (nDOF_withLag, nDOF_withLag))\n",
    "\n",
    "GF = np.zeros(nDOF_withLag)\n",
    "GF[:nDOF] = GF_ #rhs.transpose().flatten(order = 'F')\n",
    "\n",
    "sol_lsto = scipy.sparse.linalg.spsolve(mtx, GF) # direct solver is used\n",
    "\n",
    "## FEM2D VER\n",
    "data1 = data2 = np.zeros(size)\n",
    "rows1 = rows2 = np.zeros(size, np.int32)\n",
    "cols1 = cols2 = np.zeros(size, np.int32)\n",
    "\n",
    "areafraction_yx = areafraction.reshape((num_elems_x, num_elems_y),order='F')\n",
    "areafraction_yx = areafraction_yx.flatten()\n",
    "\n",
    "fem_solver.set_area_fractions(areafraction_yx)\n",
    "fem_solver.get_stiffness_matrix_SIMP(data1, rows1, cols1)\n",
    "mtx = scipy.sparse.csc_matrix((data1, (rows1, cols1)), shape=(state_size, state_size))\n",
    "\n",
    "sol = scipy.sparse.linalg.spsolve(mtx, rhs)\n",
    "\n",
    "fem_solver.get_stiffness_matrix_Ersatz(areafraction_yx, data2, rows2, cols2)\n",
    "mtx = scipy.sparse.csc_matrix((data2, (rows2, cols2)), shape=(state_size, state_size))\n",
    "\n",
    "sol2 = scipy.sparse.linalg.spsolve(mtx, rhs)"
   ]
  },
  {
   "cell_type": "code",
   "execution_count": 8,
   "metadata": {},
   "outputs": [
    {
     "name": "stdout",
     "output_type": "stream",
     "text": [
      "cant = -108.310114851\n",
      "pyFEA = -108.310074324\n",
      "pyFEA_lag = -108.31011485\n",
      "fem2d = -108.31011485\n",
      "fem2d_LSTO = -108.31011485\n",
      "30.1006449382\n",
      "30.1010355859\n",
      "30.101035586\n",
      "30.101035586\n"
     ]
    },
    {
     "data": {
      "image/png": "[encoded data removed]",
      "text/plain": [
       "<matplotlib.figure.Figure at 0x7f8997bc6450>"
      ]
     },
     "metadata": {},
     "output_type": "display_data"
    },
    {
     "data": {
      "image/png": "[encoded data removed]",
      "text/plain": [
       "<matplotlib.figure.Figure at 0x7f899820b950>"
      ]
     },
     "metadata": {},
     "output_type": "display_data"
    }
   ],
   "source": [
    "print \"cant = \" + str(min(u_cant[0]))\n",
    "print \"pyFEA = \" + str(min(u))\n",
    "print \"pyFEA_lag = \" + str(min(sol_lsto[:nDOF]))\n",
    "print \"fem2d = \" + str(min(sol[:nDOF]))\n",
    "print \"fem2d_LSTO = \" + str(min(sol2[:nDOF]))\n",
    "# OK.\n",
    "print np.std(u)\n",
    "print np.std(sol_lsto[:nDOF])\n",
    "print np.std(sol[:nDOF])\n",
    "print np.std(sol2[:nDOF])\n",
    "# OK.\n",
    "plt.plot(u,'ro')\n",
    "plt.plot(sol_lsto[:nDOF],'b*')\n",
    "plt.show()\n",
    "\n",
    "plt.plot(np.sort(u),'ro')\n",
    "plt.plot(np.sort(sol_lsto[:nDOF]),'b*')\n",
    "plt.plot(np.sort(sol2[:nDOF]),'k.')\n",
    "plt.show() \n",
    "\n",
    "# OK. "
   ]
  },
  {
   "cell_type": "code",
   "execution_count": 9,
   "metadata": {},
   "outputs": [
    {
     "data": {
      "image/png": "[encoded data removed]",
      "text/plain": [
       "<matplotlib.figure.Figure at 0x7f8997ba0fd0>"
      ]
     },
     "metadata": {},
     "output_type": "display_data"
    },
    {
     "data": {
      "image/png": "[encoded data removed]",
      "text/plain": [
       "<matplotlib.figure.Figure at 0x7f899812ba10>"
      ]
     },
     "metadata": {},
     "output_type": "display_data"
    },
    {
     "data": {
      "image/png": "[encoded data removed]",
      "text/plain": [
       "<matplotlib.figure.Figure at 0x7f899810ffd0>"
      ]
     },
     "metadata": {},
     "output_type": "display_data"
    },
    {
     "name": "stdout",
     "output_type": "stream",
     "text": [
      "0.0668894046464\n",
      "0.0668894046466\n"
     ]
    }
   ],
   "source": [
    "# sensitivity calculation (SIMP) (cant(correct) vs. pyFEA vs. FEM2D)\n",
    "## CANT VER\n",
    "\n",
    "## OPENLSTO VER\n",
    "# u_openlsto = sol_lsto[:nDOF]\n",
    "# (rows, cols, vals) = pyFEA.compute_K_SIMP_derivs(np.array(u)) # OK\n",
    "(rows, cols, vals) = pyFEA.compute_K_SIMP_derivs(sol_lsto) # OK\n",
    "\n",
    "nprows = np.array(rows)\n",
    "npcols = np.array(cols)\n",
    "npvals = np.array(vals)\n",
    "\n",
    "mtx = scipy.sparse.csc_matrix((npvals, (nprows, npcols)), shape = (nDOF_withLag, num_elem))\n",
    "\n",
    "## FEM2D VER\n",
    "data1 = data2 = np.zeros(size)\n",
    "rows1 = rows2 = np.zeros(size, np.int32)\n",
    "cols1 = cols2 = np.zeros(size, np.int32)\n",
    "fem_solver.get_stiffness_matrix_SIMP_derivs(sol2, data1, rows1, cols1)\n",
    "mtx = scipy.sparse.csc_matrix((data1, (rows1, cols1)), shape=(state_size, num_elem))\n",
    "\n",
    "\n",
    "## PLOTS (HIST)\n",
    "plt.figure(1)\n",
    "plt.subplot(1,2,1)\n",
    "plt.hist(npvals,100)\n",
    "plt.show()\n",
    "\n",
    "plt.subplot(1,2,2)\n",
    "plt.hist(data1[:npvals.shape[0]],100)\n",
    "plt.show()\n",
    "\n",
    "plt.figure(2)\n",
    "plt.plot(np.sort(npvals),'ro')\n",
    "\n",
    "plt.plot(np.sort(data1[:npvals.shape[0]]),'b*')\n",
    "plt.show()\n",
    "\n",
    "np.savetxt('npval',np.sort(npvals))\n",
    "np.savetxt('data1',np.sort(data1[:npvals.shape[0]]))\n",
    "\n",
    "## MEASURES\n",
    "print np.std(npvals)\n",
    "print np.std(data1[:npvals.shape[0]])\n",
    "# OK."
   ]
  },
  {
   "cell_type": "code",
   "execution_count": 10,
   "metadata": {
    "collapsed": true
   },
   "outputs": [],
   "source": [
    "# parameterized FEA (pyFEA vs. FEM2D(correct))\n",
    "parameters = np.random.rand(num_node)\n",
    "\n",
    "parameters_yx = parameters.reshape((num_nodes_x, num_nodes_y),order='F')\n",
    "parameters_yx = parameters_yx.flatten()\n",
    "\n",
    "## OPENLSTO VER\n",
    "(rows, cols, vals) = pyFEA.compute_K_PARM(parameters)\n",
    "\n",
    "nprows = np.array(rows)\n",
    "npcols = np.array(cols)\n",
    "npvals = np.array(vals)\n",
    "\n",
    "mtx = scipy.sparse.csc_matrix((npvals, (nprows, npcols)), shape = (nDOF_withLag, nDOF_withLag))\n",
    "\n",
    "GF = np.zeros(nDOF_withLag)\n",
    "GF[:nDOF] = GF_ #rhs.transpose().flatten(order = 'F')\n",
    "\n",
    "sol_lsto = scipy.sparse.linalg.spsolve(mtx, GF) # direct solver is used\n",
    "\n",
    "## FEM2D VER\n",
    "data1 = np.zeros(size)\n",
    "rows1 = np.zeros(size, np.int32)\n",
    "cols1 = np.zeros(size, np.int32)\n",
    "\n",
    "fem_solver.get_stiffness_matrix(parameters_yx, data1, rows1, cols1)\n",
    "mtx = scipy.sparse.csc_matrix((data1, (rows1, cols1)), shape=(state_size, state_size))\n",
    "\n",
    "sol = scipy.sparse.linalg.spsolve(mtx, rhs)"
   ]
  },
  {
   "cell_type": "code",
   "execution_count": 11,
   "metadata": {},
   "outputs": [
    {
     "name": "stdout",
     "output_type": "stream",
     "text": [
      "pyFEA_lag = -88.2837189849\n",
      "fem2d = -88.2837189836\n"
     ]
    }
   ],
   "source": [
    "print \"pyFEA_lag = \" + str(min(sol_lsto[:nDOF]))\n",
    "print \"fem2d = \" + str(min(sol[:nDOF]))\n",
    "# OK."
   ]
  },
  {
   "cell_type": "code",
   "execution_count": 12,
   "metadata": {},
   "outputs": [
    {
     "data": {
      "image/png": "[encoded data removed]",
      "text/plain": [
       "<matplotlib.figure.Figure at 0x7f89ca2de750>"
      ]
     },
     "metadata": {},
     "output_type": "display_data"
    },
    {
     "data": {
      "image/png": "[encoded data removed]",
      "text/plain": [
       "<matplotlib.figure.Figure at 0x7f8997898e10>"
      ]
     },
     "metadata": {},
     "output_type": "display_data"
    },
    {
     "data": {
      "image/png": "[encoded data removed]",
      "text/plain": [
       "<matplotlib.figure.Figure at 0x7f8997605f50>"
      ]
     },
     "metadata": {},
     "output_type": "display_data"
    },
    {
     "name": "stdout",
     "output_type": "stream",
     "text": [
      "0.0134076552334\n",
      "0.0134076552332\n"
     ]
    }
   ],
   "source": [
    "# sensitivity calculation (Param) (pyFEA vs. FEM2D(Correct))\n",
    "\n",
    "## OPENLSTO VER.\n",
    "(rows, cols, vals) = pyFEA.compute_K_PARM_derivs(sol_lsto)\n",
    "\n",
    "nprows = np.array(rows)\n",
    "npcols = np.array(cols)\n",
    "npvals = np.array(vals)\n",
    "\n",
    "## FEM2D VER\n",
    "data1 = np.zeros(size)\n",
    "rows1 = np.zeros(size, np.int32)\n",
    "cols1 = np.zeros(size, np.int32)\n",
    "\n",
    "fem_solver.get_stiffness_matrix_derivs(sol, data1, rows1, cols1)\n",
    "\n",
    "## PLOTS (HIST)\n",
    "plt.figure(1)\n",
    "plt.subplot(1,2,1)\n",
    "plt.hist(npvals,100)\n",
    "plt.show()\n",
    "\n",
    "plt.subplot(1,2,2)\n",
    "plt.hist(data1[:npvals.shape[0]],100)\n",
    "plt.show()\n",
    "\n",
    "plt.figure(2)\n",
    "plt.plot(np.sort(npvals),'ro')\n",
    "\n",
    "plt.plot(np.sort(data1[:npvals.shape[0]]),'b*')\n",
    "plt.show()\n",
    "\n",
    "print np.std(npvals)\n",
    "print np.std(data1[:npvals.shape[0]])\n",
    "# OK."
   ]
  },
  {
   "cell_type": "code",
   "execution_count": 13,
   "metadata": {
    "collapsed": true
   },
   "outputs": [],
   "source": [
    "# Gauss point sensitivity calculation (for LSTO)\n",
    "# Cant(correct) vs. pyFEA vs. FEM2D\n",
    "# NOTE: in OPENLSTO, area_min was hard coded to be 0.1 (CANT = 0.001, so OPENLSTO to 0.001)\n",
    "# NOTE: if uniform areafraction, three solutions are same \n",
    "areafrac_new = np.random.rand(num_elem) #np.ones(num_elem)*0.5 \n",
    "# CANT\n",
    "u_cant = cant.get_u(areafrac_new, f = -1.0)\n",
    "Gpts_xy = cant.get_IntegPoints_xy()\n",
    "(IntegrationPointSensitivities, bpts_sens) = cant.get_sens()\n",
    "\n",
    "# pyFEA\n",
    "pyFEA.compute_K_SIMP(areafrac_new) #areafraction)\n",
    "u = pyFEA.solve_FE()\n",
    "pySens = py_Sensitivity(pyFEA, u)\n",
    "py_GptsSens = pySens.compute_compliance_sens()\n",
    "\n",
    "# FEM2D\n",
    "xpos = np.zeros(size)\n",
    "ypos = np.zeros(size)\n",
    "sens = np.zeros(size)\n",
    "\n",
    "areafraction_new_yx = areafrac_new.reshape((num_elems_x, num_elems_y),order='F')\n",
    "areafraction_new_yx = areafraction_new_yx.flatten()\n",
    "\n",
    "fem_solver.set_area_fractions(areafraction_new_yx)\n",
    "\n",
    "data1 = np.zeros(size)\n",
    "rows1 = np.zeros(size, np.int32)\n",
    "cols1 = np.zeros(size, np.int32)\n",
    "\n",
    "fem_solver.get_stiffness_matrix_SIMP(data1, rows1, cols1)\n",
    "mtx = scipy.sparse.csc_matrix((data1, (rows1, cols1)), shape=(state_size, state_size))\n",
    "\n",
    "sol = scipy.sparse.linalg.spsolve(mtx, rhs)\n",
    "\n",
    "fem_solver.get_sensitivity_LSTO(sol, xpos, ypos, sens)"
   ]
  },
  {
   "cell_type": "code",
   "execution_count": 14,
   "metadata": {},
   "outputs": [
    {
     "name": "stdout",
     "output_type": "stream",
     "text": [
      "(30.542248511171799, -106.15079422239542, 30.023358214431671)\n",
      "(30.538079639392933, -106.1507560407472, 30.022803837520183)\n",
      "(30.542248510702851, -106.15079422096363, 29.96828494579669)\n"
     ]
    }
   ],
   "source": [
    "print (np.max(u_cant), np.min(u_cant),  np.std(u_cant))\n",
    "print (np.max(u), np.min(u),  np.std(u))\n",
    "print (np.max(sol), np.min(sol),  np.std(sol))"
   ]
  },
  {
   "cell_type": "code",
   "execution_count": 15,
   "metadata": {},
   "outputs": [
    {
     "name": "stdout",
     "output_type": "stream",
     "text": [
      "(4.3568652814063373, 0.0, 0.03275455904801873)\n",
      "(4.3568645412200633, -0.0, 0.032754497249247734)\n",
      "(4.3568652814056072, 0.0, 0.03275364653715767)\n"
     ]
    }
   ],
   "source": [
    "print (np.max(IntegrationPointSensitivities.flatten()), np.min(IntegrationPointSensitivities.flatten()),  np.std(IntegrationPointSensitivities.flatten()))\n",
    "print (np.max(-py_GptsSens[:,2]), np.min(-py_GptsSens[:,2]),  np.std(-py_GptsSens[:,2]))\n",
    "print (np.max(sens[:Gpts_xy.shape[0]]), np.min(sens[:Gpts_xy.shape[0]]), np.std(sens[:Gpts_xy.shape[0]]))\n"
   ]
  },
  {
   "cell_type": "code",
   "execution_count": 16,
   "metadata": {},
   "outputs": [
    {
     "data": {
      "image/png": "[encoded data removed]",
      "text/plain": [
       "<matplotlib.figure.Figure at 0x7f89975fbe10>"
      ]
     },
     "metadata": {},
     "output_type": "display_data"
    }
   ],
   "source": [
    "plt.figure()\n",
    "plt.plot(np.sort(IntegrationPointSensitivities.flatten()),'ro')\n",
    "plt.plot(np.sort(-py_GptsSens[:,2]),'b*')\n",
    "plt.plot(np.sort(sens[:Gpts_xy.shape[0]]),'k^')\n",
    "plt.show()"
   ]
  },
  {
   "cell_type": "code",
   "execution_count": 17,
   "metadata": {},
   "outputs": [
    {
     "data": {
      "image/png": "[encoded data removed]",
      "text/plain": [
       "<matplotlib.figure.Figure at 0x7f89978af310>"
      ]
     },
     "metadata": {},
     "output_type": "display_data"
    }
   ],
   "source": [
    "plt.figure()\n",
    "plt.clf()\n",
    "plt.subplot(3,1,1)\n",
    "plt.scatter(Gpts_xy[:,0],Gpts_xy[:,1],10,IntegrationPointSensitivities.flatten())\n",
    "plt.axis('equal')\n",
    "plt.colorbar()\n",
    "plt.grid()\n",
    "# plt.show()\n",
    "\n",
    "plt.subplot(3,1,2)\n",
    "plt.scatter(py_GptsSens[:,0],py_GptsSens[:,1],10,-py_GptsSens[:,2])\n",
    "plt.axis('equal')\n",
    "plt.colorbar()\n",
    "plt.grid()\n",
    "\n",
    "\n",
    "\n",
    "plt.subplot(3,1,3)\n",
    "plt.scatter(xpos[:Gpts_xy.shape[0]], ypos[:Gpts_xy.shape[0]], 10, sens[:Gpts_xy.shape[0]])\n",
    "plt.axis('equal')\n",
    "plt.colorbar()\n",
    "plt.grid()\n",
    "\n",
    "\n",
    "plt.show()"
   ]
  },
  {
   "cell_type": "code",
   "execution_count": 18,
   "metadata": {},
   "outputs": [
    {
     "data": {
      "image/png": "[encoded data removed]",
      "text/plain": [
       "<matplotlib.figure.Figure at 0x7f89977b9150>"
      ]
     },
     "metadata": {},
     "output_type": "display_data"
    }
   ],
   "source": [
    "plt.figure(2)\n",
    "plt.clf()\n",
    "plt.subplot(3,1,1)\n",
    "plt.hist(IntegrationPointSensitivities.flatten(),100)\n",
    "\n",
    "plt.subplot(3,1,2)\n",
    "plt.hist(-py_GptsSens[:,2],100)\n",
    "\n",
    "plt.subplot(3,1,3)\n",
    "plt.hist(sens[:Gpts_xy.shape[0]],100)\n",
    "\n",
    "plt.show()"
   ]
  },
  {
   "cell_type": "code",
   "execution_count": 19,
   "metadata": {},
   "outputs": [
    {
     "data": {
      "image/png": "[encoded data removed]",
      "text/plain": [
       "<matplotlib.figure.Figure at 0x7f8997e91890>"
      ]
     },
     "metadata": {},
     "output_type": "display_data"
    },
    {
     "data": {
      "image/png": "[encoded data removed]",
      "text/plain": [
       "<matplotlib.figure.Figure at 0x7f89981693d0>"
      ]
     },
     "metadata": {},
     "output_type": "display_data"
    }
   ],
   "source": [
    "plt.figure()\n",
    "plt.plot(np.sort(-py_GptsSens[:,2])-np.sort(IntegrationPointSensitivities.flatten()),'b*')\n",
    "plt.show()\n",
    "\n",
    "plt.figure()\n",
    "plt.plot(np.sort(-py_GptsSens[:,2])-np.sort(sens[:Gpts_xy.shape[0]]),'b*')\n",
    "plt.show()"
   ]
  }
 ],
 "metadata": {
  "kernelspec": {
   "display_name": "Python 2",
   "language": "python",
   "name": "python2"
  },
  "language_info": {
   "codemirror_mode": {
    "name": "ipython",
    "version": 2
   },
   "file_extension": ".py",
   "mimetype": "text/x-python",
   "name": "python",
   "nbconvert_exporter": "python",
   "pygments_lexer": "ipython2",
   "version": "2.7.13"
  }
 },
 "nbformat": 4,
 "nbformat_minor": 2
}
