{
 "cells": [
  {
   "cell_type": "code",
   "execution_count": 1,
   "metadata": {},
   "outputs": [],
   "source": [
    "from pyBind import py_FEA, py_Sensitivity\n",
    "import matplotlib.pyplot as plt\n",
    "import numpy as np\n",
    "import scipy.sparse.linalg\n",
    "\n",
    "import sys\n",
    "sys.path.insert(0, r'/home/hac210/Dropbox/packages/topOpt_MDO/lib/fem2d/fem2d/')\n",
    "from utils.plot import get_mesh, plot_solution, plot_contour\n",
    "from fem2d import PyFEMSolver\n",
    "\n",
    "sys.path.insert(0, r'/home/hac210/Dropbox/packages/02.M2DO_opensource_new/OpenLSTO/M2DO_FEA/Python/Cant')\n",
    "from optim_refact_v3 import Cantilever"
   ]
  },
  {
   "cell_type": "code",
   "execution_count": 2,
   "metadata": {
    "collapsed": true
   },
   "outputs": [],
   "source": [
    "# FEM setup\n",
    "num_nodes_x = 21 # 21\n",
    "num_nodes_y = 41 #11\n",
    "\n",
    "length_x = 160.0\n",
    "length_y = 80.0\n",
    "\n",
    "num_elems_x = num_nodes_x - 1\n",
    "num_elems_y = num_nodes_y - 1\n",
    "\n",
    "num_elem = num_elems_x * num_elems_y\n",
    "num_node = num_nodes_y * num_nodes_x\n",
    "\n",
    "E = 1.0\n",
    "v = 0.3"
   ]
  },
  {
   "cell_type": "code",
   "execution_count": 3,
   "metadata": {},
   "outputs": [
    {
     "name": "stdout",
     "output_type": "stream",
     "text": [
      "[440]\n"
     ]
    },
    {
     "name": "stderr",
     "output_type": "stream",
     "text": [
      "/home/hac210/anaconda2/lib/python2.7/site-packages/scipy/sparse/compressed.py:774: SparseEfficiencyWarning: Changing the sparsity structure of a csr_matrix is expensive. lil_matrix is more efficient.\n",
      "  SparseEfficiencyWarning)\n"
     ]
    }
   ],
   "source": [
    "# get Cantil + compte elasticity =====================================\n",
    "cant = Cantilever(isHoles=False, lxy=[length_x,length_y], exy=[num_elems_x,num_elems_y])\n",
    "cant.set_fea()\n",
    "u_cant = cant.get_u(np.ones(num_elem), f=-1.0)"
   ]
  },
  {
   "cell_type": "code",
   "execution_count": 4,
   "metadata": {},
   "outputs": [
    {
     "name": "stdout",
     "output_type": "stream",
     "text": [
      "((204964,), (204964,), (204964,), 1804)\n"
     ]
    }
   ],
   "source": [
    "# get fem2d + compute elasticity =====================================\n",
    "fem_solver = PyFEMSolver(num_nodes_x,num_nodes_y,length_x,length_y,E,v)\n",
    "force = np.zeros(2*num_node)\n",
    "force[(num_nodes_y*(num_nodes_x-1) + int(num_nodes_y/2))*2+1] = -1.0\n",
    "nodes = get_mesh(num_nodes_x, num_nodes_y, length_x, length_y) \n",
    "\n",
    "# stiffness matrix\n",
    "size = num_elem * 64 * 4 + 2 * 2 * num_nodes_y\n",
    "state_size = 2 * num_node + 2 * num_nodes_y\n",
    "rhs = np.zeros(state_size)\n",
    "rhs[:2*num_node] = force\n",
    "\n",
    "data1 = np.zeros(size)\n",
    "rows1 = np.zeros(size, np.int32)\n",
    "cols1 = np.zeros(size, np.int32)\n",
    "fem_solver.get_stiffness_matrix(np.ones(num_node), data1, rows1, cols1)\n",
    "mtx = scipy.sparse.csc_matrix((data1, (rows1, cols1)), shape=(state_size, state_size))\n",
    "\n",
    "print(data1.shape, rows1.shape, cols1.shape, state_size)\n",
    "\n",
    "sol = scipy.sparse.linalg.spsolve(mtx, rhs)"
   ]
  },
  {
   "cell_type": "code",
   "execution_count": 5,
   "metadata": {},
   "outputs": [],
   "source": [
    "# get py_FEA + compute elasticity =====================================\n",
    "pyFEA = py_FEA(lx = length_x, ly = length_y, nelx = num_elems_x, nely = num_elems_y, element_order = 2)\n",
    "[node, elem, elem_dof] = pyFEA.get_mesh()\n",
    "pyFEA.set_material(E,v,1.0)\n",
    "\n",
    "coord = np.array([0,0])\n",
    "tol = np.array([1e-3,1e10])\n",
    "pyFEA.set_boundary(coord = coord,tol = tol)\n",
    "BCid = pyFEA.get_boundary()\n",
    "\n",
    "coord = np.array([length_x,length_y/2])\n",
    "tol = np.array([1,1]) \n",
    "GF_ = pyFEA.set_force(coord = coord,tol = tol, direction = 1, f = -1.0) \n",
    "\n",
    "# quickfix (for comparison)\n",
    "(rows, cols, vals) = pyFEA.compute_K()\n",
    "u = pyFEA.solve_FE()\n",
    "\n",
    "# using Lagrange multiplier\n",
    "nprows = np.array(rows)\n",
    "npcols = np.array(cols)\n",
    "npvals = np.array(vals)\n",
    "\n",
    "nDOF  = num_node * 2\n",
    "nDOF_withLag  = num_node * 2 + len(BCid)\n",
    "\n",
    "mtx = scipy.sparse.csc_matrix((npvals, (nprows, npcols)), shape = (nDOF_withLag, nDOF_withLag))\n",
    "\n",
    "GF = np.zeros(nDOF_withLag)\n",
    "GF[:nDOF] = GF_ #rhs.transpose().flatten(order = 'F')\n",
    "\n",
    "sol_lsto = scipy.sparse.linalg.spsolve(mtx, GF) # direct solver is used\n",
    "\n",
    "# print npcols.shape\n",
    "# print nDOF\n",
    "\n",
    "# mtx = scipy.sparse.csc_matrix((npvals, (nprows, npcols)), shape = (nDOF, nDOF))\n",
    "\n",
    "# # force \n",
    "# rhs = np.zeros((num_node,2))\n",
    "\n",
    "# fixedNodes = (abs(node[:,0]-coord[0]) < tol[0]) & (abs(node[:,1]-coord[1]) < tol[1])\n",
    "# nid = np.where(fixedNodes == True)[0]\n",
    "\n",
    "\n",
    "\n",
    "# rhs[nid,1] = -1\n",
    "# GF = rhs.transpose().flatten(order = 'F')\n",
    "# state = scipy.sparse.linalg.spsolve(mtx, la) # direct solver is used"
   ]
  },
  {
   "cell_type": "code",
   "execution_count": 6,
   "metadata": {},
   "outputs": [
    {
     "name": "stdout",
     "output_type": "stream",
     "text": [
      "cant = -38.786160943\n",
      "pyFEA = -38.7861598793\n",
      "pyFEA_lag = -38.7861609429\n",
      "fem2d = -38.7861609431\n"
     ]
    }
   ],
   "source": [
    "print \"cant = \" + str(min(u_cant[0]))\n",
    "print \"pyFEA = \" + str(min(u))\n",
    "print \"pyFEA_lag = \" + str(min(sol_lsto))\n",
    "print \"fem2d = \" + str(min(sol))"
   ]
  },
  {
   "cell_type": "code",
   "execution_count": 7,
   "metadata": {},
   "outputs": [],
   "source": [
    "# changing of the the areafraction\n",
    "areafraction =  np.random.rand(num_elem)\n",
    "\n",
    "## CANTILEVER VER. (correct for SIMP)\n",
    "u_cant = cant.get_u(areafraction,-1)\n",
    "\n",
    "## OPENLSTO VER\n",
    "(rows, cols, vals) = pyFEA.compute_K_SIMP(areafraction)\n",
    "\n",
    "### quickfix (for comparison)\n",
    "u = pyFEA.solve_FE()\n",
    "\n",
    "### using Lagrange multiplier\n",
    "nprows = np.array(rows)\n",
    "npcols = np.array(cols)\n",
    "npvals = np.array(vals)\n",
    "\n",
    "nDOF  = num_node * 2\n",
    "nDOF_withLag  = num_node * 2 + len(BCid)\n",
    "\n",
    "mtx = scipy.sparse.csc_matrix((npvals, (nprows, npcols)), shape = (nDOF_withLag, nDOF_withLag))\n",
    "\n",
    "GF = np.zeros(nDOF_withLag)\n",
    "GF[:nDOF] = GF_ #rhs.transpose().flatten(order = 'F')\n",
    "\n",
    "sol_lsto = scipy.sparse.linalg.spsolve(mtx, GF) # direct solver is used\n",
    "\n",
    "## FEM2D VER\n",
    "data1 = np.zeros(size)\n",
    "rows1 = np.zeros(size, np.int32)\n",
    "cols1 = np.zeros(size, np.int32)\n",
    "\n",
    "fem_solver.set_area_fractions(areafraction)\n",
    "fem_solver.get_stiffness_matrix_SIMP(data1, rows1, cols1)\n",
    "mtx = scipy.sparse.csc_matrix((data1, (rows1, cols1)), shape=(state_size, state_size))\n",
    "\n",
    "sol = scipy.sparse.linalg.spsolve(mtx, rhs)"
   ]
  },
  {
   "cell_type": "code",
   "execution_count": 8,
   "metadata": {},
   "outputs": [
    {
     "name": "stdout",
     "output_type": "stream",
     "text": [
      "cant = -92.4024924539\n",
      "pyFEA = -92.402489345\n",
      "pyFEA_lag = -92.4024924539\n",
      "fem2d = -92.402492454\n"
     ]
    }
   ],
   "source": [
    "print \"cant = \" + str(min(u_cant[0]))\n",
    "print \"pyFEA = \" + str(min(u))\n",
    "print \"pyFEA_lag = \" + str(min(sol_lsto[:nDOF]))\n",
    "print \"fem2d = \" + str(min(sol[:nDOF]))"
   ]
  },
  {
   "cell_type": "code",
   "execution_count": null,
   "metadata": {},
   "outputs": [],
   "source": [
    "# sensitivity calculation (SIMP)\n"
   ]
  },
  {
   "cell_type": "code",
   "execution_count": null,
   "metadata": {
    "collapsed": true
   },
   "outputs": [],
   "source": []
  }
 ],
 "metadata": {
  "kernelspec": {
   "display_name": "Python 2",
   "language": "python",
   "name": "python2"
  },
  "language_info": {
   "codemirror_mode": {
    "name": "ipython",
    "version": 2
   },
   "file_extension": ".py",
   "mimetype": "text/x-python",
   "name": "python",
   "nbconvert_exporter": "python",
   "pygments_lexer": "ipython2",
   "version": "2.7.13"
  }
 },
 "nbformat": 4,
 "nbformat_minor": 2
}
